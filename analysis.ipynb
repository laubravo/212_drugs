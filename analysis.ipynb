{
 "cells": [
  {
   "cell_type": "code",
   "execution_count": 10,
   "id": "87abb50f",
   "metadata": {},
   "outputs": [],
   "source": [
    "import pandas as pd\n",
    "import gseapy as gp\n",
    "import matplotlib.pyplot as plt\n",
    "import pickle\n",
    "from upsetplot import plot\n",
    "from upsetplot import from_memberships\n",
    "import json\n",
    "import itertools"
   ]
  },
  {
   "cell_type": "markdown",
   "id": "37c4d39d",
   "metadata": {},
   "source": [
    "## Gene sets"
   ]
  },
  {
   "cell_type": "code",
   "execution_count": 78,
   "id": "0e8568ad",
   "metadata": {},
   "outputs": [],
   "source": [
    "gene_sets = ['unstrat', 'pe', 'ese', 'mse', 'early', 'late']\n",
    "\n",
    "gene_set_dict = {}\n",
    "for gs in gene_sets:\n",
    "    df= pd.read_csv('../gene_sets/{}.csv'.format(gs), header=0)\n",
    "    temp_set = []\n",
    "    for index,row in df.iterrows():\n",
    "        if (row['logFC (Control/Disease)'] > 1.1 and row['adj.P.Val'] < 0.05):\n",
    "            temp_set.append(row['gene_symbol'])\n",
    "    gene_set_dict[gs] = temp_set\n",
    "\n",
    "\n",
    "\n",
    "filehandler = open(\"../data/gene_sets.dict\",\"wb\")\n",
    "pickle.dump(gene_set_dict,filehandler)\n",
    "\n"
   ]
  },
  {
   "cell_type": "code",
   "execution_count": 81,
   "id": "e00268b0",
   "metadata": {},
   "outputs": [
    {
     "name": "stdout",
     "output_type": "stream",
     "text": [
      "unstrat\n",
      "730\n",
      "pe\n",
      "1396\n",
      "ese\n",
      "249\n",
      "mse\n",
      "750\n",
      "early\n",
      "1169\n",
      "late\n",
      "603\n"
     ]
    }
   ],
   "source": [
    "filehandler = open(\"../data/gene_sets.dict\",\"rb\")\n",
    "gene_set_dict = pickle.load(filehandler)\n",
    "\n",
    "for key in gene_set_dict:\n",
    "    print (key)\n",
    "    print (len(gene_set_dict[key]))"
   ]
  },
  {
   "cell_type": "markdown",
   "id": "61dc376a",
   "metadata": {},
   "source": [
    "## OG dataset"
   ]
  },
  {
   "cell_type": "code",
   "execution_count": 165,
   "id": "bbab443c",
   "metadata": {},
   "outputs": [
    {
     "name": "stderr",
     "output_type": "stream",
     "text": [
      "/var/folders/hm/d3mf7x5d0ks7hd20j03cl94w0000gq/T/ipykernel_59879/2437180610.py:3: DtypeWarning: Columns (2) have mixed types. Specify dtype option on import or set low_memory=False.\n",
      "  id_map = pd.read_csv('../data/{}_id_map.txt'.format(acc), header=0, delimiter='\\t')\n"
     ]
    }
   ],
   "source": [
    "acc = 'GSE51981'\n",
    "data = pd.read_csv('../data/{}_data.txt'.format(acc), header=0, delimiter='\\t')\n",
    "id_map = pd.read_csv('../data/{}_id_map.txt'.format(acc), header=0, delimiter='\\t')\n",
    "for index,row in id_map.iterrows():\n",
    "    row['Gene Symbol'] = str(row['Gene Symbol']).split('///')[0].strip()\n",
    "\n",
    "data = data.assign(ID_REF=id_map['Gene Symbol'])\n",
    "\n",
    "cols = data.columns\n",
    "phen_list = []\n",
    "phen = pd.read_csv('../data/{}_metadata.txt'.format(acc), header=0, delimiter='\\t')\n",
    "sample_phen = {}\n",
    "for sample in cols:\n",
    "    if ('GSM' in sample):\n",
    "        sample_phen[sample] = phen[sample][0]\n",
    "        phen_list.append(phen[sample][0])\n"
   ]
  },
  {
   "cell_type": "markdown",
   "id": "f41573ed",
   "metadata": {},
   "source": [
    "unstratified"
   ]
  },
  {
   "cell_type": "code",
   "execution_count": 166,
   "id": "d9a8dc5a",
   "metadata": {},
   "outputs": [
    {
     "name": "stderr",
     "output_type": "stream",
     "text": [
      "2023-05-24 11:34:14,025 [WARNING] Dropping duplicated gene names, only keep the first values\n"
     ]
    }
   ],
   "source": [
    "phen_list = []\n",
    "for sample in cols:\n",
    "    if ('GSM' in sample):\n",
    "        phen_list.append(phen[sample][2])\n",
    "\n",
    "gs_res = gp.gsea(data=data, \n",
    "                 gene_sets=gene_set_dict, # or enrichr library names\n",
    "                 cls= phen_list, # cls=class_vector\n",
    "                 # set permutation_type to phenotype if samples >=15\n",
    "                 permutation_type='phenotype',\n",
    "                 permutation_num=100, # reduce number to speed up test\n",
    "                 outdir='../gsea_output/unstrat/{}/'.format(acc),  # do not write output to disk\n",
    "                 method='signal_to_noise',\n",
    "                 threads=4, seed= 7, max_size=1396)\n"
   ]
  },
  {
   "cell_type": "code",
   "execution_count": 167,
   "id": "c1df0b9e",
   "metadata": {},
   "outputs": [
    {
     "data": {
      "image/png": "[encoded data removed]",
      "text/plain": [
       "<Figure size 400x500 with 2 Axes>"
      ]
     },
     "metadata": {},
     "output_type": "display_data"
    }
   ],
   "source": [
    "from gseapy import dotplot, ringplot\n",
    "# to save your figure, make sure that ``ofname`` is not None\n",
    "ax = dotplot(gs_res.res2d,\n",
    "             column=\"FDR q-val\",\n",
    "             title='',\n",
    "             cmap=plt.cm.viridis,\n",
    "             size=5,\n",
    "             figsize=(4,5), cutoff=1)"
   ]
  },
  {
   "cell_type": "markdown",
   "id": "d917c76c",
   "metadata": {},
   "source": [
    "early stage"
   ]
  },
  {
   "cell_type": "code",
   "execution_count": 168,
   "id": "3e962a2b",
   "metadata": {},
   "outputs": [
    {
     "name": "stderr",
     "output_type": "stream",
     "text": [
      "2023-05-24 11:34:40,390 [WARNING] Dropping duplicated gene names, only keep the first values\n"
     ]
    }
   ],
   "source": [
    "data_early = data.copy(deep=True)\n",
    "phen_list_early = []\n",
    "drop_samples_early = []\n",
    "for sample in cols:\n",
    "    if ('GSM' in sample):\n",
    "        if (phen[sample][0] == 'Endometriosis_Minimal/Mild'):\n",
    "            phen_list_early.append(phen[sample][0])\n",
    "        elif ((phen[sample][0] == 'Non-Endometriosis_No Uterine Pelvic Pathology') or (phen[sample][0] == 'Non-Endometriosis_Uterine Pelvic Pathology')):\n",
    "            phen_list_early.append('Control')\n",
    "        else:\n",
    "            drop_samples_early.append(sample)\n",
    "data_early = data_early.drop(columns=drop_samples_early)\n",
    "\n",
    "gs_res = gp.gsea(data=data_early, \n",
    "                 gene_sets=gene_set_dict, # or enrichr library names\n",
    "                 cls= phen_list_early, # cls=class_vector\n",
    "                 # set permutation_type to phenotype if samples >=15\n",
    "                 permutation_type='phenotype',\n",
    "                 permutation_num=50, # reduce number to speed up test\n",
    "                 outdir='../gsea_output/early/{}/'.format(acc),  # do not write output to disk\n",
    "                 method='signal_to_noise',\n",
    "                 threads=4, seed= 7, max_size=1396)\n",
    "\n",
    "\n",
    "\n",
    "\n"
   ]
  },
  {
   "cell_type": "code",
   "execution_count": 169,
   "id": "52953691",
   "metadata": {},
   "outputs": [
    {
     "data": {
      "image/png": "[encoded data removed]",
      "text/plain": [
       "<Figure size 400x500 with 2 Axes>"
      ]
     },
     "metadata": {},
     "output_type": "display_data"
    }
   ],
   "source": [
    "from gseapy import dotplot, ringplot\n",
    "# to save your figure, make sure that ``ofname`` is not None\n",
    "ax = dotplot(gs_res.res2d,\n",
    "             column=\"FDR q-val\",\n",
    "             title='',\n",
    "             cmap=plt.cm.viridis,\n",
    "             size=5,\n",
    "             figsize=(4,5), cutoff=1)"
   ]
  },
  {
   "cell_type": "markdown",
   "id": "c515f09a",
   "metadata": {},
   "source": [
    "late stage"
   ]
  },
  {
   "cell_type": "code",
   "execution_count": 170,
   "id": "e1869b99",
   "metadata": {},
   "outputs": [
    {
     "name": "stderr",
     "output_type": "stream",
     "text": [
      "2023-05-24 11:35:02,698 [WARNING] Dropping duplicated gene names, only keep the first values\n"
     ]
    }
   ],
   "source": [
    "data_late = data.copy(deep=True)\n",
    "phen_list_late = []\n",
    "drop_samples_late = []\n",
    "for sample in cols:\n",
    "    if ('GSM' in sample):\n",
    "        if (phen[sample][0] == 'Endometriosis_Moderate/Severe'):\n",
    "            phen_list_late.append(phen[sample][0])\n",
    "        elif ((phen[sample][0] == 'Non-Endometriosis_No Uterine Pelvic Pathology') or (phen[sample][0] == 'Non-Endometriosis_Uterine Pelvic Pathology')):\n",
    "            phen_list_late.append('Control')\n",
    "        else:\n",
    "            drop_samples_late.append(sample)\n",
    "data_late = data_late.drop(columns=drop_samples_late)\n",
    "\n",
    "gs_res = gp.gsea(data=data_late, \n",
    "                 gene_sets=gene_set_dict, # or enrichr library names\n",
    "                 cls= phen_list_late, # cls=class_vector\n",
    "                 # set permutation_type to phenotype if samples >=15\n",
    "                 permutation_type='phenotype',\n",
    "                 permutation_num=50, # reduce number to speed up test\n",
    "                 outdir='../gsea_output/late/{}/'.format(acc),  # do not write output to disk\n",
    "                 method='signal_to_noise',\n",
    "                 threads=4, seed= 7, max_size=1396)"
   ]
  },
  {
   "cell_type": "code",
   "execution_count": 171,
   "id": "ba8d6cc9",
   "metadata": {},
   "outputs": [
    {
     "data": {
      "image/png": "[encoded data removed]",
      "text/plain": [
       "<Figure size 400x500 with 2 Axes>"
      ]
     },
     "metadata": {},
     "output_type": "display_data"
    }
   ],
   "source": [
    "from gseapy import dotplot, ringplot\n",
    "# to save your figure, make sure that ``ofname`` is not None\n",
    "ax = dotplot(gs_res.res2d,\n",
    "             column=\"FDR q-val\",\n",
    "             title='',\n",
    "             cmap=plt.cm.viridis,\n",
    "             size=5,\n",
    "             figsize=(4,5), cutoff=1)"
   ]
  },
  {
   "cell_type": "markdown",
   "id": "7731b83d",
   "metadata": {},
   "source": [
    "## New dataset"
   ]
  },
  {
   "cell_type": "code",
   "execution_count": 203,
   "id": "e98a7fda",
   "metadata": {},
   "outputs": [],
   "source": [
    "def run_gsea(dat, cls_list, strat, acc):\n",
    "    gs_res = gp.gsea(data=dat, \n",
    "                 gene_sets=gene_set_dict, # or enrichr library names\n",
    "                 cls= cls_list, # cls=class_vector\n",
    "                 # set permutation_type to phenotype if samples >=15\n",
    "                 permutation_type='phenotype',\n",
    "                 permutation_num=50, # reduce number to speed up test\n",
    "                 outdir='../gsea_output/{}/{}/'.format(strat, acc),  # do not write output to disk\n",
    "                 method='ratio_of_classes',\n",
    "                 threads=4, seed= 7, max_size=1260, verbose=False)\n",
    "    terms = gs_res.res2d.Term\n",
    "    print (terms)\n",
    "    for i in range(0, len(terms)):\n",
    "        gseaplot(gs_res.ranking, term=terms[i], **gs_res.results[terms[i]], ofname='../gsea_output/{}/{}/gsea/{}.pdf'.format(strat, acc,terms[i]))\n",
    "        genes = gs_res.res2d.Lead_genes[i].split(\";\")\n",
    "        ax = heatmap(df = gs_res.heatmat.loc[genes], z_score=0, title=terms[i], figsize=(14,4), ofname='../gsea_output/{}/{}/gsea/{}.heatmap.pdf'.format(strat,acc,terms[i]))\n",
    "    \n",
    "    ax = dotplot(gs_res.res2d,\n",
    "             column=\"FDR q-val\",\n",
    "             title='{}'.format(strat),\n",
    "             cmap=plt.cm.viridis,\n",
    "             size=5,\n",
    "             figsize=(4,5), cutoff=1, \n",
    "             ofname = '../gsea_output/{}/{}/gsea/dotplot.pdf'.format(strat,acc))\n"
   ]
  },
  {
   "cell_type": "code",
   "execution_count": 196,
   "id": "dcab79d7",
   "metadata": {},
   "outputs": [
    {
     "name": "stdout",
     "output_type": "stream",
     "text": [
      "{'unstrat': 647, 'pe': 1260, 'ese': 220, 'mse': 661, 'early': 1048, 'late': 535}\n"
     ]
    }
   ],
   "source": [
    "acc = 'GSE141549'\n",
    "data = pd.read_csv('../data/{}_data.txt'.format(acc), header=0, delimiter='\\t')\n",
    "data = data.astype({'Gene_symbol':str})\n",
    "data = data.fillna(value =0)\n",
    "\n",
    "cols = data.columns\n",
    "phen = pd.read_csv('../data/{}_metadata.txt'.format(acc), header=0, delimiter='\\t')\n",
    "\n",
    "data_gene = set(data['Gene_symbol'].tolist())\n",
    "gs_count = {}\n",
    "for gs in gene_set_dict:\n",
    "    gs_count[gs] = 0\n",
    "    for gene in gene_set_dict[gs]:\n",
    "        if (gene in data_gene):\n",
    "            gs_count[gs] += 1\n",
    "\n",
    "print (gs_count)\n",
    "\n"
   ]
  },
  {
   "cell_type": "markdown",
   "id": "34262d5c",
   "metadata": {},
   "source": [
    "# New - unstratified"
   ]
  },
  {
   "cell_type": "code",
   "execution_count": 204,
   "id": "1528137f",
   "metadata": {},
   "outputs": [
    {
     "name": "stderr",
     "output_type": "stream",
     "text": [
      "2023-05-24 12:08:18,410 [WARNING] Dropping duplicated gene names, only keep the first values\n"
     ]
    },
    {
     "name": "stdout",
     "output_type": "stream",
     "text": [
      "0        ese\n",
      "1       late\n",
      "2      early\n",
      "3         pe\n",
      "4    unstrat\n",
      "5        mse\n",
      "Name: Term, dtype: object\n"
     ]
    }
   ],
   "source": [
    "data_unstrat = data.copy(deep=True)\n",
    "phen_list_unstrat = []\n",
    "drop_samples_unstrat = []\n",
    "tot_sample = []\n",
    "for sample in cols:\n",
    "    if ('SAMPLE' in sample):\n",
    "        if ('disease' in phen[sample][4] and 'Healthy' in phen[sample][4]):\n",
    "            phen_list_unstrat.append('Control')\n",
    "        elif ('disease' in phen[sample][4]):\n",
    "            phen_list_unstrat.append('Disease')\n",
    "        else:\n",
    "            drop_samples_unstrat.append(sample)\n",
    "data_unstrat = data_unstrat.drop(columns=drop_samples_unstrat)\n",
    "\n",
    "run_gsea(data_unstrat, phen_list_unstrat, 'unstrat', acc)\n"
   ]
  },
  {
   "cell_type": "markdown",
   "id": "77b16b7e",
   "metadata": {},
   "source": [
    "# New - early"
   ]
  },
  {
   "cell_type": "code",
   "execution_count": 205,
   "id": "68693d31",
   "metadata": {},
   "outputs": [
    {
     "name": "stderr",
     "output_type": "stream",
     "text": [
      "2023-05-24 12:08:34,728 [WARNING] Dropping duplicated gene names, only keep the first values\n"
     ]
    },
    {
     "name": "stdout",
     "output_type": "stream",
     "text": [
      "151\n",
      "0        ese\n",
      "1       late\n",
      "2    unstrat\n",
      "3        mse\n",
      "4         pe\n",
      "5      early\n",
      "Name: Term, dtype: object\n"
     ]
    }
   ],
   "source": [
    "data_early = data.copy(deep=True)\n",
    "phen_list_early = []\n",
    "drop_samples_early = []\n",
    "\n",
    "for sample in cols:\n",
    "    if ('SAMPLE' in sample):\n",
    "        if ('disease' in phen[sample][4] and 'Healthy' in phen[sample][4]):\n",
    "            phen_list_early.append('Control')\n",
    "        elif ('disease' in phen[sample][4] and ('1' in phen[sample][4] or '2' in phen[sample][4])  ):\n",
    "            phen_list_early.append('Early disease')\n",
    "        else:\n",
    "            drop_samples_early.append(sample)\n",
    "\n",
    "print (len(phen_list_early))\n",
    "data_early = data_early.drop(columns=drop_samples_early)\n",
    "\n",
    "\n",
    "run_gsea(data_early, phen_list_early, 'early', acc)\n"
   ]
  },
  {
   "cell_type": "markdown",
   "id": "c3418240",
   "metadata": {},
   "source": [
    "# New - late"
   ]
  },
  {
   "cell_type": "code",
   "execution_count": 206,
   "id": "c1020328",
   "metadata": {},
   "outputs": [
    {
     "name": "stderr",
     "output_type": "stream",
     "text": [
      "2023-05-24 12:09:13,028 [WARNING] Dropping duplicated gene names, only keep the first values\n"
     ]
    },
    {
     "name": "stdout",
     "output_type": "stream",
     "text": [
      "316\n",
      "0        ese\n",
      "1      early\n",
      "2         pe\n",
      "3        mse\n",
      "4       late\n",
      "5    unstrat\n",
      "Name: Term, dtype: object\n"
     ]
    }
   ],
   "source": [
    "data_late = data.copy(deep=True)\n",
    "phen_list_late = []\n",
    "drop_samples_late = []\n",
    "\n",
    "for sample in cols:\n",
    "    if ('SAMPLE' in sample):\n",
    "        if ('disease' in phen[sample][4] and 'Healthy' in phen[sample][4]):\n",
    "            phen_list_late.append('Control')\n",
    "        elif ('disease' in phen[sample][4] and ('3' in phen[sample][4] or '4' in phen[sample][4])  ):\n",
    "            phen_list_late.append('Late disease')\n",
    "        else:\n",
    "            drop_samples_late.append(sample)\n",
    "\n",
    "print (len(phen_list_late))\n",
    "data_late = data_late.drop(columns=drop_samples_late)\n",
    "\n",
    "\n",
    "run_gsea(data_late, phen_list_late, 'late', acc)"
   ]
  },
  {
   "cell_type": "markdown",
   "id": "42640fe3",
   "metadata": {},
   "source": [
    "# NEW - FIRST"
   ]
  },
  {
   "cell_type": "code",
   "execution_count": 208,
   "id": "fbcd225c",
   "metadata": {},
   "outputs": [
    {
     "name": "stderr",
     "output_type": "stream",
     "text": [
      "2023-05-24 12:12:30,277 [WARNING] Dropping duplicated gene names, only keep the first values\n"
     ]
    },
    {
     "name": "stdout",
     "output_type": "stream",
     "text": [
      "108\n",
      "0        ese\n",
      "1       late\n",
      "2    unstrat\n",
      "3        mse\n",
      "4         pe\n",
      "5      early\n",
      "Name: Term, dtype: object\n"
     ]
    }
   ],
   "source": [
    "data_first = data.copy(deep=True)\n",
    "phen_list_first = []\n",
    "drop_samples_first = []\n",
    "\n",
    "for sample in cols:\n",
    "    if ('SAMPLE' in sample):\n",
    "        if ('disease' in phen[sample][4] and 'Healthy' in phen[sample][4]):\n",
    "            phen_list_first.append('Control')\n",
    "        elif ('disease' in phen[sample][4] and ('1' in phen[sample][4])  ):\n",
    "            phen_list_first.append('First stage')\n",
    "        else:\n",
    "            drop_samples_first.append(sample)\n",
    "\n",
    "print (len(phen_list_first))\n",
    "data_first = data_first.drop(columns=drop_samples_first)\n",
    "\n",
    "\n",
    "run_gsea(data_first, phen_list_first, 'first', acc)"
   ]
  },
  {
   "cell_type": "markdown",
   "id": "17b95e48",
   "metadata": {},
   "source": [
    "# New - Second"
   ]
  },
  {
   "cell_type": "code",
   "execution_count": 209,
   "id": "6099fd1f",
   "metadata": {},
   "outputs": [
    {
     "name": "stderr",
     "output_type": "stream",
     "text": [
      "2023-05-24 12:14:05,088 [WARNING] Dropping duplicated gene names, only keep the first values\n"
     ]
    },
    {
     "name": "stdout",
     "output_type": "stream",
     "text": [
      "109\n",
      "0        ese\n",
      "1       late\n",
      "2    unstrat\n",
      "3         pe\n",
      "4      early\n",
      "5        mse\n",
      "Name: Term, dtype: object\n"
     ]
    }
   ],
   "source": [
    "data_second = data.copy(deep=True)\n",
    "phen_list_second = []\n",
    "drop_samples_second = []\n",
    "\n",
    "for sample in cols:\n",
    "    if ('SAMPLE' in sample):\n",
    "        if ('disease' in phen[sample][4] and 'Healthy' in phen[sample][4]):\n",
    "            phen_list_second.append('Control')\n",
    "        elif ('disease' in phen[sample][4] and ('2' in phen[sample][4])  ):\n",
    "            phen_list_second.append('Second stage')\n",
    "        else:\n",
    "            drop_samples_second.append(sample)\n",
    "\n",
    "print (len(phen_list_second))\n",
    "data_second = data_second.drop(columns=drop_samples_second)\n",
    "\n",
    "\n",
    "run_gsea(data_second, phen_list_second, 'second', acc)"
   ]
  },
  {
   "cell_type": "markdown",
   "id": "92552c25",
   "metadata": {},
   "source": [
    "# New - third"
   ]
  },
  {
   "cell_type": "code",
   "execution_count": 210,
   "id": "592a95a3",
   "metadata": {},
   "outputs": [
    {
     "name": "stderr",
     "output_type": "stream",
     "text": [
      "2023-05-24 12:15:17,565 [WARNING] Dropping duplicated gene names, only keep the first values\n"
     ]
    },
    {
     "name": "stdout",
     "output_type": "stream",
     "text": [
      "146\n",
      "0        ese\n",
      "1       late\n",
      "2    unstrat\n",
      "3        mse\n",
      "4         pe\n",
      "5      early\n",
      "Name: Term, dtype: object\n"
     ]
    }
   ],
   "source": [
    "data_third = data.copy(deep=True)\n",
    "phen_list_third = []\n",
    "drop_samples_third = []\n",
    "\n",
    "for sample in cols:\n",
    "    if ('SAMPLE' in sample):\n",
    "        if ('disease' in phen[sample][4] and 'Healthy' in phen[sample][4]):\n",
    "            phen_list_third.append('Control')\n",
    "        elif ('disease' in phen[sample][4] and ('3' in phen[sample][4])  ):\n",
    "            phen_list_third.append('Third stage')\n",
    "        else:\n",
    "            drop_samples_third.append(sample)\n",
    "\n",
    "print (len(phen_list_third))\n",
    "data_third = data_third.drop(columns=drop_samples_third)\n",
    "\n",
    "\n",
    "run_gsea(data_third, phen_list_third, 'third', acc)"
   ]
  },
  {
   "cell_type": "markdown",
   "id": "360faa6e",
   "metadata": {},
   "source": [
    "# New - Fourth"
   ]
  },
  {
   "cell_type": "code",
   "execution_count": 211,
   "id": "39f1b225",
   "metadata": {},
   "outputs": [
    {
     "name": "stderr",
     "output_type": "stream",
     "text": [
      "2023-05-24 12:16:17,417 [WARNING] Dropping duplicated gene names, only keep the first values\n"
     ]
    },
    {
     "name": "stdout",
     "output_type": "stream",
     "text": [
      "236\n",
      "0        ese\n",
      "1      early\n",
      "2         pe\n",
      "3        mse\n",
      "4    unstrat\n",
      "5       late\n",
      "Name: Term, dtype: object\n"
     ]
    }
   ],
   "source": [
    "data_fourth = data.copy(deep=True)\n",
    "phen_list_fourth = []\n",
    "drop_samples_fourth = []\n",
    "\n",
    "for sample in cols:\n",
    "    if ('SAMPLE' in sample):\n",
    "        if ('disease' in phen[sample][4] and 'Healthy' in phen[sample][4]):\n",
    "            phen_list_fourth.append('Control')\n",
    "        elif ('disease' in phen[sample][4] and ('4' in phen[sample][4])  ):\n",
    "            phen_list_fourth.append('Fourth stage')\n",
    "        else:\n",
    "            drop_samples_fourth.append(sample)\n",
    "\n",
    "print (len(phen_list_fourth))\n",
    "data_fourth = data_fourth.drop(columns=drop_samples_fourth)\n",
    "\n",
    "\n",
    "run_gsea(data_fourth, phen_list_fourth, 'fourth', acc)"
   ]
  },
  {
   "cell_type": "code",
   "execution_count": 21,
   "id": "5d3f97a3",
   "metadata": {},
   "outputs": [
    {
     "name": "stdout",
     "output_type": "stream",
     "text": [
      "646\n",
      "206\n",
      "[['first'], ['second'], ['third'], ['fourth'], ['first', 'second'], ['first', 'third'], ['first', 'fourth'], ['second', 'third'], ['second', 'fourth'], ['third', 'fourth'], ['first', 'second', 'third'], ['first', 'second', 'fourth'], ['first', 'third', 'fourth'], ['second', 'third', 'fourth'], ['first', 'second', 'third', 'fourth']]\n",
      "[1169, 730, 603, 249, 685, 535, 201, 577, 207, 206, 535, 192, 186, 201, 186]\n"
     ]
    },
    {
     "data": {
      "image/png": "[encoded data removed]",
      "text/plain": [
       "<Figure size 888.889x444.444 with 4 Axes>"
      ]
     },
     "metadata": {},
     "output_type": "display_data"
    }
   ],
   "source": [
    "filehandler = open(\"../data/gene_sets.dict\",\"rb\")\n",
    "gene_set = pickle.load(filehandler)\n",
    "gene_set_temp = {'first': set(gene_set['early']),\n",
    "                 'second': set(gene_set['unstrat']),\n",
    "                 'third': set(gene_set['late']),\n",
    "                 'fourth': set(gene_set['ese'])}\n",
    "\n",
    "        \n",
    "strats = ['first', 'second', 'third', 'fourth']\n",
    "perm_strat = []\n",
    "for i in range(0, len(strats)):\n",
    "    combs = list(itertools.combinations(strats, i+1))\n",
    "\n",
    "    for p in combs:\n",
    "        perm_strat.append(list(p))\n",
    "data = []\n",
    "for perm in perm_strat:\n",
    "    temp_list = []\n",
    "    for p in perm:\n",
    "        temp_list.append(gene_set_temp[p])\n",
    "    \n",
    "    data.append(len(set.intersection(*temp_list)))\n",
    "print (len(set.union(gene_set_temp['third'], gene_set_temp['fourth'])))\n",
    "print ((len(set.intersection(gene_set_temp['third'], gene_set_temp['fourth']))))\n",
    "print (perm_strat)\n",
    "print (data)\n",
    "example = from_memberships(perm_strat, data=data)\n",
    "plot(example) \n",
    "#plt.savefig('{}/figs/drug_set_{}.png'.format(acc, acc))\n",
    "plt.show()"
   ]
  },
  {
   "cell_type": "code",
   "execution_count": null,
   "id": "b71ade87",
   "metadata": {},
   "outputs": [],
   "source": []
  }
 ],
 "metadata": {
  "kernelspec": {
   "display_name": "Python 3 (ipykernel)",
   "language": "python",
   "name": "python3"
  },
  "language_info": {
   "codemirror_mode": {
    "name": "ipython",
    "version": 3
   },
   "file_extension": ".py",
   "mimetype": "text/x-python",
   "name": "python",
   "nbconvert_exporter": "python",
   "pygments_lexer": "ipython3",
   "version": "3.9.6"
  }
 },
 "nbformat": 4,
 "nbformat_minor": 5
}
